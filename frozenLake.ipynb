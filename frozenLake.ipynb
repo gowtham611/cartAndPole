{
 "cells": [
  {
   "cell_type": "code",
   "execution_count": 1,
   "metadata": {},
   "outputs": [],
   "source": [
    "import numpy as np\n",
    "import gymnasium as gym\n",
    "import time\n",
    "import random\n",
    "from IPython.display import clear_output"
   ]
  },
  {
   "cell_type": "code",
   "execution_count": 2,
   "metadata": {},
   "outputs": [],
   "source": [
    "env = gym.make(\"FrozenLake-v1\", render_mode=\"ansi\")  # Set render mode during initialization\n",
    "state_space_size = env.observation_space.n\n",
    "action_space_size = env.action_space.n\n",
    "q_table = np.zeros((state_space_size, action_space_size))"
   ]
  },
  {
   "cell_type": "code",
   "execution_count": 3,
   "metadata": {},
   "outputs": [],
   "source": [
    "num_episodes = 10000\n",
    "max_steps_per_episodes = 100\n",
    "learning_rate = 0.1\n",
    "discount_rate = 0.99\n",
    "exploration_rate = 1\n",
    "max_exploration_rate = 1\n",
    "min_exploration_rate = 0.01\n",
    "exploration_decay_rate = 0.001"
   ]
  },
  {
   "cell_type": "code",
   "execution_count": 4,
   "metadata": {},
   "outputs": [
    {
     "name": "stdout",
     "output_type": "stream",
     "text": [
      "********Average reward per thousand episodes********\n",
      "\n",
      "1000 :  0.05600000000000004\n",
      "2000 :  0.20700000000000016\n",
      "3000 :  0.4030000000000003\n",
      "4000 :  0.5680000000000004\n",
      "5000 :  0.6350000000000005\n",
      "6000 :  0.6630000000000005\n",
      "7000 :  0.6770000000000005\n",
      "8000 :  0.6760000000000005\n",
      "9000 :  0.6830000000000005\n",
      "10000 :  0.6950000000000005\n",
      "\n",
      "\n",
      "********Q-table********\n",
      "\n",
      "[[0.55991633 0.51888296 0.51738445 0.5172599 ]\n",
      " [0.38825556 0.32242106 0.30016811 0.51704216]\n",
      " [0.43137211 0.43241209 0.38449642 0.48655849]\n",
      " [0.35305305 0.24254757 0.28720969 0.45650481]\n",
      " [0.57811256 0.38143188 0.23017874 0.31254987]\n",
      " [0.         0.         0.         0.        ]\n",
      " [0.17573808 0.14530394 0.3980261  0.09731311]\n",
      " [0.         0.         0.         0.        ]\n",
      " [0.33773014 0.25552165 0.53690488 0.61814273]\n",
      " [0.44207826 0.67355757 0.43370435 0.3823173 ]\n",
      " [0.6223053  0.39640149 0.39400322 0.34222534]\n",
      " [0.         0.         0.         0.        ]\n",
      " [0.         0.         0.         0.        ]\n",
      " [0.62561678 0.56802145 0.77619992 0.47478548]\n",
      " [0.71821399 0.87541505 0.7633293  0.70662267]\n",
      " [0.         0.         0.         0.        ]]\n"
     ]
    }
   ],
   "source": [
    "# Q-learning algorithm\n",
    "rewards_all_episodes = []\n",
    "\n",
    "for episode in range(num_episodes):\n",
    "    state, _ = env.reset()  # Reset the environment for the new episode\n",
    "    done = False\n",
    "    reward_current_episode = 0\n",
    "\n",
    "    for step in range(max_steps_per_episodes):\n",
    "        exploration_rate_threshold = random.uniform(0, 1)\n",
    "\n",
    "        if exploration_rate_threshold > exploration_rate:\n",
    "            # Exploit: Choose the action with the highest Q-value\n",
    "            action = np.argmax(q_table[state, :])\n",
    "        else:\n",
    "            # Explore: Choose a random action\n",
    "            action = env.action_space.sample()\n",
    "\n",
    "        # Take the action and observe the result\n",
    "        new_state, reward, terminated, truncated, info = env.step(action)\n",
    "        done = terminated or truncated\n",
    "\n",
    "        # Update Q-table for Q(s, a)\n",
    "        q_table[state, action] = q_table[state, action] + \\\n",
    "            learning_rate * (reward + discount_rate * np.max(q_table[new_state, :]) - q_table[state, action])\n",
    "\n",
    "        # Move to the next state\n",
    "        state = new_state\n",
    "        reward_current_episode += reward\n",
    "\n",
    "        if done:\n",
    "            break\n",
    "\n",
    "    # Exploration decay rate\n",
    "    exploration_rate = min_exploration_rate + \\\n",
    "        (max_exploration_rate - min_exploration_rate) * np.exp(-exploration_decay_rate * episode)\n",
    "    \n",
    "    rewards_all_episodes.append(reward_current_episode)\n",
    "\n",
    "# Display the average reward per thousand episodes\n",
    "rewards_per_thousand_episodes = np.split(np.array(rewards_all_episodes), num_episodes / 1000)\n",
    "count = 1000\n",
    "print(\"********Average reward per thousand episodes********\\n\")\n",
    "for r in rewards_per_thousand_episodes:\n",
    "    print(count, \": \", str(sum(r / 1000)))\n",
    "    count += 1000\n",
    "\n",
    "# Display the final Q-table\n",
    "print(\"\\n\\n********Q-table********\\n\")\n",
    "print(q_table)"
   ]
  },
  {
   "cell_type": "code",
   "execution_count": 6,
   "metadata": {},
   "outputs": [
    {
     "name": "stdout",
     "output_type": "stream",
     "text": [
      "******Episode  1 ******\n",
      "\n",
      "\n",
      "\n",
      "\n",
      "****You fell through a hole!****\n",
      "******Episode  2 ******\n",
      "\n",
      "\n",
      "\n",
      "\n",
      "****You reached the goal!****\n",
      "******Episode  3 ******\n",
      "\n",
      "\n",
      "\n",
      "\n",
      "****You fell through a hole!****\n"
     ]
    }
   ],
   "source": [
    "import time\n",
    "from IPython.display import clear_output\n",
    "\n",
    "# Test the trained agent with a few episodes\n",
    "for episode in range(3):\n",
    "    state, _ = env.reset()\n",
    "    done = False\n",
    "    print(\"******Episode \", episode + 1, \"******\\n\\n\\n\\n\")\n",
    "    time.sleep(1)\n",
    "\n",
    "    for step in range(max_steps_per_episodes):\n",
    "        # Remove clear_output and make sure rendering happens correctly\n",
    "        env.render()  # Render the environment\n",
    "        time.sleep(0.3)\n",
    "\n",
    "        action = np.argmax(q_table[state, :])  # Take the action with the highest Q-value\n",
    "        new_state, reward, terminated, truncated, info = env.step(action)\n",
    "        done = terminated or truncated  # Check if the episode is done\n",
    "\n",
    "        if done:\n",
    "            env.render()  # Render the final state of the episode\n",
    "            if reward == 1:\n",
    "                print(\"****You reached the goal!****\")\n",
    "            else:\n",
    "                print(\"****You fell through a hole!****\")\n",
    "            time.sleep(3)\n",
    "            break\n",
    "\n",
    "        state = new_state\n",
    "\n",
    "# Close the environment\n",
    "env.close()\n"
   ]
  },
  {
   "cell_type": "code",
   "execution_count": null,
   "metadata": {},
   "outputs": [],
   "source": []
  }
 ],
 "metadata": {
  "kernelspec": {
   "display_name": "Python 3",
   "language": "python",
   "name": "python3"
  },
  "language_info": {
   "codemirror_mode": {
    "name": "ipython",
    "version": 3
   },
   "file_extension": ".py",
   "mimetype": "text/x-python",
   "name": "python",
   "nbconvert_exporter": "python",
   "pygments_lexer": "ipython3",
   "version": "3.11.9"
  }
 },
 "nbformat": 4,
 "nbformat_minor": 2
}
